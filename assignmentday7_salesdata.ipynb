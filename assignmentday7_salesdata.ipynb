{
  "nbformat": 4,
  "nbformat_minor": 0,
  "metadata": {
    "colab": {
      "provenance": [],
      "authorship_tag": "ABX9TyO3fVFEnb8iydPB/zWgiBfb",
      "include_colab_link": true
    },
    "kernelspec": {
      "name": "python3",
      "display_name": "Python 3"
    },
    "language_info": {
      "name": "python"
    }
  },
  "cells": [
    {
      "cell_type": "markdown",
      "metadata": {
        "id": "view-in-github",
        "colab_type": "text"
      },
      "source": [
        "<a href=\"https://colab.research.google.com/github/Pranayasri-Yellu/google-colab-codes/blob/main/assignmentday7_salesdata.ipynb\" target=\"_parent\"><img src=\"https://colab.research.google.com/assets/colab-badge.svg\" alt=\"Open In Colab\"/></a>"
      ]
    },
    {
      "cell_type": "code",
      "execution_count": 3,
      "metadata": {
        "colab": {
          "base_uri": "https://localhost:8080/"
        },
        "id": "0KTupxSULq6N",
        "outputId": "1f1d2319-3a69-4af5-e4be-bbb146880ecb"
      },
      "outputs": [
        {
          "output_type": "stream",
          "name": "stdout",
          "text": [
            "         Date Product Region    Sales  Profit  Quantity\n",
            "0  2023-01-02  Tablet   East  1061.81  236.12         7\n",
            "1  2023-01-06  Laptop  North  1926.07  246.34         8\n",
            "2  2023-01-03  Tablet   East  1597.99  253.17         3\n",
            "3  2023-01-20  Tablet  North  1397.99  242.23         1\n",
            "4  2023-01-04  Laptop   West   734.03  140.36         4\n",
            "             Sales      Profit   Quantity\n",
            "count    20.000000   20.000000  20.000000\n",
            "mean   1186.553000  211.533000   5.050000\n",
            "std     461.528444   66.916251   2.543826\n",
            "min     530.880000   82.160000   1.000000\n",
            "25%     774.517500  166.515000   2.750000\n",
            "50%    1104.865000  214.670000   5.000000\n",
            "75%    1571.080000  248.047500   7.250000\n",
            "max    1954.860000  364.970000   9.000000\n"
          ]
        }
      ],
      "source": [
        "import pandas as pd\n",
        "\n",
        "# Load the dataset\n",
        "df = pd.read_csv('/content/Day_7_sales_data.csv')\n",
        "\n",
        "# Display the first 5 rows\n",
        "print(df.head())\n",
        "\n",
        "# Print basic statistics of numerical columns\n",
        "print(df.describe())\n"
      ]
    }
  ]
}