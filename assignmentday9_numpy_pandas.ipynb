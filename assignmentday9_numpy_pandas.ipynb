{
  "nbformat": 4,
  "nbformat_minor": 0,
  "metadata": {
    "colab": {
      "provenance": [],
      "authorship_tag": "ABX9TyP5T/AQrdXBqPd3FZrVz6nS",
      "include_colab_link": true
    },
    "kernelspec": {
      "name": "python3",
      "display_name": "Python 3"
    },
    "language_info": {
      "name": "python"
    }
  },
  "cells": [
    {
      "cell_type": "markdown",
      "metadata": {
        "id": "view-in-github",
        "colab_type": "text"
      },
      "source": [
        "<a href=\"https://colab.research.google.com/github/Pranayasri-Yellu/google-colab-codes/blob/main/assignmentday9_numpy_pandas.ipynb\" target=\"_parent\"><img src=\"https://colab.research.google.com/assets/colab-badge.svg\" alt=\"Open In Colab\"/></a>"
      ]
    },
    {
      "cell_type": "code",
      "execution_count": 8,
      "metadata": {
        "colab": {
          "base_uri": "https://localhost:8080/"
        },
        "id": "0KTupxSULq6N",
        "outputId": "533a25a4-f911-4b58-f283-eae8b24105d2"
      },
      "outputs": [
        {
          "output_type": "stream",
          "name": "stdout",
          "text": [
            "First 5 rows of the dataset:\n",
            "         Date       Account_Type    Branch Transaction_Type  \\\n",
            "0  2023-01-19      Fixed Deposit   Central     Loan Payment   \n",
            "1  2023-01-16            Current    Uptown       Withdrawal   \n",
            "2  2023-01-10            Current    Uptown     Loan Payment   \n",
            "3  2023-01-18            Savings    Uptown     Loan Payment   \n",
            "4  2023-01-14  Recurring Deposit  Suburban     Loan Payment   \n",
            "\n",
            "   Transaction_Amount  Account_Balance  \n",
            "0              985.51          6839.59  \n",
            "1              641.43          8908.39  \n",
            "2             3363.85         12428.67  \n",
            "3             1914.60          5776.63  \n",
            "4             2788.57          4779.04  \n",
            "\n",
            "Basic statistics of the numerical columns:\n",
            "       Transaction_Amount  Account_Balance\n",
            "count           20.000000        20.000000\n",
            "mean          2705.829500      7967.766500\n",
            "std           1429.829787      2770.248821\n",
            "min            641.430000      2592.160000\n",
            "25%           1482.085000      6460.127500\n",
            "50%           2567.645000      7905.275000\n",
            "75%           4121.525000      9127.702500\n",
            "max           4683.640000     12836.510000\n",
            "\n",
            "Missing values in each column:\n",
            "Date                  0\n",
            "Account_Type          0\n",
            "Branch                0\n",
            "Transaction_Type      0\n",
            "Transaction_Amount    0\n",
            "Account_Balance       0\n",
            "dtype: int64\n"
          ]
        }
      ],
      "source": [
        "import pandas as pd\n",
        "\n",
        "# Load the dataset\n",
        "df = pd.read_csv('/content/Day_9_banking_data.csv')\n",
        "\n",
        "# Display the first 5 rows of the dataset\n",
        "print(\"First 5 rows of the dataset:\")\n",
        "print(df.head())\n",
        "\n",
        "# Generate basic statistics of the numerical columns\n",
        "print(\"\\nBasic statistics of the numerical columns:\")\n",
        "print(df.describe())\n",
        "\n",
        "# Check for missing values\n",
        "print(\"\\nMissing values in each column:\")\n",
        "print(df.isnull().sum())\n",
        "\n",
        "\n"
      ]
    },
    {
      "cell_type": "code",
      "source": [
        "\n",
        "account_type_grouped = df.groupby('Account_Type').agg(\n",
        "    Total_Transaction_Amount=('Transaction_Amount', 'sum'),\n",
        "    Average_Account_Balance=('Account_Balance', 'mean')\n",
        ")\n",
        "print(\"\\nAggregated data by Account Type:\")\n",
        "print(account_type_grouped)\n",
        "\n",
        "\n",
        "branch_grouped = df.groupby('Branch').agg(\n",
        "    Total_Transactions=('Transaction_Amount', 'size'),\n",
        "    Average_Transaction_Amount=('Transaction_Amount', 'mean')\n",
        ")\n",
        "print(\"\\nAggregated data by Branch:\")\n",
        "print(branch_grouped)\n"
      ],
      "metadata": {
        "colab": {
          "base_uri": "https://localhost:8080/"
        },
        "id": "8PH7NWi3Pqrm",
        "outputId": "5210f3e6-c176-477c-8466-3e8c0c3dc329"
      },
      "execution_count": 11,
      "outputs": [
        {
          "output_type": "stream",
          "name": "stdout",
          "text": [
            "\n",
            "Aggregated data by Account Type:\n",
            "                   Total_Transaction_Amount  Average_Account_Balance\n",
            "Account_Type                                                        \n",
            "Current                            15052.57              9893.404000\n",
            "Fixed Deposit                      14102.59              6120.380000\n",
            "Recurring Deposit                  15179.99              7627.283333\n",
            "Savings                             9781.44              9134.110000\n",
            "\n",
            "Aggregated data by Branch:\n",
            "          Total_Transactions  Average_Transaction_Amount\n",
            "Branch                                                  \n",
            "Central                    8                 2942.338750\n",
            "Downtown                   3                 3188.703333\n",
            "Suburban                   5                 2773.278000\n",
            "Uptown                     4                 1786.345000\n"
          ]
        }
      ]
    }
  ]
}